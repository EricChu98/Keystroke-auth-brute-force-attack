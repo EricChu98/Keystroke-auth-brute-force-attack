{
 "cells": [
  {
   "cell_type": "code",
   "execution_count": 96,
   "id": "b566e252",
   "metadata": {},
   "outputs": [],
   "source": [
    "import os\n",
    "import pandas as pd\n",
    "import numpy as np\n",
    "from sklearn.neural_network import MLPClassifier\n",
    "from sklearn.preprocessing import StandardScaler, LabelEncoder\n",
    "from sklearn.model_selection import train_test_split\n",
    "from sklearn.ensemble import RandomForestClassifier\n",
    "from sklearn.metrics import confusion_matrix, classification_report\n",
    "from sklearn.neural_network import MLPClassifier\n",
    "from sklearn import svm\n",
    "from sklearn.metrics import f1_score\n",
    "from sklearn.svm import SVR\n",
    "from keras.models import Sequential\n",
    "from keras.layers import Dense\n",
    "import seaborn as sns\n",
    "from sklearn.metrics import accuracy_score"
   ]
  },
  {
   "cell_type": "code",
   "execution_count": 112,
   "id": "f252b66c",
   "metadata": {},
   "outputs": [
    {
     "name": "stdout",
     "output_type": "stream",
     "text": [
      "   uid  key1_id  key2_id  key1_hold_dur  key2_hold_dur  DD_dur  UU_dur  \\\n",
      "0    1       84       72             96             88      96      88   \n",
      "1    1       84       72            176            112      64       0   \n",
      "2    1       84       72            136            104      32       0   \n",
      "3    1       84       72            113             73      40       0   \n",
      "4    1       84       72             96             88      96      88   \n",
      "\n",
      "   UD_dur  speed  all_fingers  dom_hand  \n",
      "0       0      1            2         0  \n",
      "1    -112      1            2         0  \n",
      "2    -104      1            2         0  \n",
      "3     -73      1            2         0  \n",
      "4       0      1            2         0  \n"
     ]
    }
   ],
   "source": [
    "data_set = pd.read_csv('bigrams_with_observation/th-934.csv')\n",
    "print(data_set.head())"
   ]
  },
  {
   "cell_type": "code",
   "execution_count": 113,
   "id": "2c88bb29",
   "metadata": {},
   "outputs": [],
   "source": [
    "X = data_set.drop('uid', axis=1)\n",
    "y = data_set['uid']\n",
    "X_train, X_test, y_train, y_test = train_test_split(X, y, test_size=0.33, random_state=1)"
   ]
  },
  {
   "cell_type": "code",
   "execution_count": 114,
   "id": "5175fd5f",
   "metadata": {},
   "outputs": [],
   "source": [
    "sc = StandardScaler()\n",
    "X_train = sc.fit_transform(X_train)\n",
    "X_test = sc.transform(X_test)"
   ]
  },
  {
   "cell_type": "code",
   "execution_count": 115,
   "id": "6f55c748",
   "metadata": {},
   "outputs": [],
   "source": [
    "rfc = RandomForestClassifier(n_estimators=1000)\n",
    "rfc.fit(X_train, y_train)\n",
    "pred_rfc = rfc.predict(X_test)"
   ]
  },
  {
   "cell_type": "code",
   "execution_count": 116,
   "id": "8c25ab82",
   "metadata": {},
   "outputs": [
    {
     "name": "stdout",
     "output_type": "stream",
     "text": [
      "              precision    recall  f1-score   support\n",
      "\n",
      "           1       0.50      0.54      0.52        13\n",
      "           2       0.76      0.80      0.78        20\n",
      "           3       0.64      0.58      0.61        12\n",
      "           4       0.86      1.00      0.92         6\n",
      "           5       1.00      1.00      1.00         9\n",
      "           6       0.22      0.40      0.29         5\n",
      "           7       0.33      0.22      0.27         9\n",
      "           8       0.40      0.40      0.40         5\n",
      "           9       1.00      1.00      1.00         9\n",
      "          10       0.67      0.40      0.50         5\n",
      "          11       0.00      0.00      0.00         2\n",
      "          12       1.00      0.92      0.96        12\n",
      "          13       1.00      1.00      1.00        12\n",
      "          14       1.00      1.00      1.00         7\n",
      "          15       1.00      1.00      1.00         8\n",
      "          16       0.14      0.15      0.15        13\n",
      "          17       0.40      0.17      0.24        12\n",
      "          18       1.00      0.93      0.97        15\n",
      "          19       0.32      0.40      0.35        15\n",
      "          20       0.00      0.00      0.00         8\n",
      "          21       0.20      0.27      0.23        11\n",
      "          22       0.41      0.47      0.44        15\n",
      "          23       0.42      0.50      0.45        10\n",
      "          24       1.00      1.00      1.00        12\n",
      "          25       0.00      0.00      0.00         4\n",
      "          26       0.18      0.23      0.20        13\n",
      "          27       0.69      0.52      0.59        21\n",
      "          28       0.38      0.38      0.38        13\n",
      "          29       1.00      1.00      1.00         4\n",
      "          30       0.80      0.89      0.84         9\n",
      "\n",
      "    accuracy                           0.59       309\n",
      "   macro avg       0.58      0.57      0.57       309\n",
      "weighted avg       0.60      0.59      0.59       309\n",
      "\n",
      "[[ 7  0  0  0  0  0  0  0  0  0  0  0  0  0  0  0  0  0  0  0  2  0  0  0\n",
      "   0  3  1  0  0  0]\n",
      " [ 0 16  2  0  0  0  0  0  0  0  0  0  0  0  0  0  0  0  0  0  0  2  0  0\n",
      "   0  0  0  0  0  0]\n",
      " [ 0  1  7  0  0  0  0  1  0  0  0  0  0  0  0  0  0  0  2  0  0  1  0  0\n",
      "   0  0  0  0  0  0]\n",
      " [ 0  0  0  6  0  0  0  0  0  0  0  0  0  0  0  0  0  0  0  0  0  0  0  0\n",
      "   0  0  0  0  0  0]\n",
      " [ 0  0  0  0  9  0  0  0  0  0  0  0  0  0  0  0  0  0  0  0  0  0  0  0\n",
      "   0  0  0  0  0  0]\n",
      " [ 0  0  0  0  0  2  0  0  0  0  0  0  0  0  0  1  0  0  0  0  0  0  1  0\n",
      "   0  0  0  1  0  0]\n",
      " [ 0  2  0  0  0  0  2  1  0  0  0  0  0  0  0  0  0  0  2  0  0  1  0  0\n",
      "   1  0  0  0  0  0]\n",
      " [ 0  1  1  0  0  0  1  2  0  0  0  0  0  0  0  0  0  0  0  0  0  0  0  0\n",
      "   0  0  0  0  0  0]\n",
      " [ 0  0  0  0  0  0  0  0  9  0  0  0  0  0  0  0  0  0  0  0  0  0  0  0\n",
      "   0  0  0  0  0  0]\n",
      " [ 1  0  0  0  0  0  0  0  0  2  0  0  0  0  0  0  1  0  0  0  0  0  0  0\n",
      "   0  1  0  0  0  0]\n",
      " [ 0  0  0  0  0  0  0  0  0  0  0  0  0  0  0  0  0  0  0  0  0  0  0  0\n",
      "   0  0  0  0  0  2]\n",
      " [ 0  0  0  0  0  0  0  0  0  0  1 11  0  0  0  0  0  0  0  0  0  0  0  0\n",
      "   0  0  0  0  0  0]\n",
      " [ 0  0  0  0  0  0  0  0  0  0  0  0 12  0  0  0  0  0  0  0  0  0  0  0\n",
      "   0  0  0  0  0  0]\n",
      " [ 0  0  0  0  0  0  0  0  0  0  0  0  0  7  0  0  0  0  0  0  0  0  0  0\n",
      "   0  0  0  0  0  0]\n",
      " [ 0  0  0  0  0  0  0  0  0  0  0  0  0  0  8  0  0  0  0  0  0  0  0  0\n",
      "   0  0  0  0  0  0]\n",
      " [ 0  0  0  0  0  2  0  0  0  0  0  0  0  0  0  2  0  0  0  0  2  0  1  0\n",
      "   0  2  1  3  0  0]\n",
      " [ 2  0  0  0  0  0  0  0  0  0  0  0  0  0  0  1  2  0  0  0  2  0  0  0\n",
      "   0  4  1  0  0  0]\n",
      " [ 0  0  0  1  0  0  0  0  0  0  0  0  0  0  0  0  0 14  0  0  0  0  0  0\n",
      "   0  0  0  0  0  0]\n",
      " [ 0  0  1  0  0  0  2  1  0  0  0  0  0  0  0  0  0  0  6  0  0  5  0  0\n",
      "   0  0  0  0  0  0]\n",
      " [ 0  0  0  0  0  2  0  0  0  0  0  0  0  0  0  1  0  0  0  0  2  0  1  0\n",
      "   0  1  1  0  0  0]\n",
      " [ 2  0  0  0  0  0  0  0  0  0  0  0  0  0  0  3  0  0  0  2  3  0  0  0\n",
      "   0  1  0  0  0  0]\n",
      " [ 0  0  0  0  0  0  0  0  0  0  0  0  0  0  0  0  0  0  8  0  0  7  0  0\n",
      "   0  0  0  0  0  0]\n",
      " [ 0  0  0  0  0  0  0  0  0  1  0  0  0  0  0  1  0  0  0  0  0  0  5  0\n",
      "   0  0  1  2  0  0]\n",
      " [ 0  0  0  0  0  0  0  0  0  0  0  0  0  0  0  0  0  0  0  0  0  0  0 12\n",
      "   0  0  0  0  0  0]\n",
      " [ 0  1  0  0  0  0  1  0  0  0  0  0  0  0  0  0  0  0  1  0  0  1  0  0\n",
      "   0  0  0  0  0  0]\n",
      " [ 1  0  0  0  0  0  0  0  0  0  0  0  0  0  0  1  2  0  0  4  2  0  0  0\n",
      "   0  3  0  0  0  0]\n",
      " [ 0  0  0  0  0  1  0  0  0  0  0  0  0  0  0  3  0  0  0  0  1  0  2  0\n",
      "   0  1 11  2  0  0]\n",
      " [ 1  0  0  0  0  2  0  0  0  0  0  0  0  0  0  1  0  0  0  0  1  0  2  0\n",
      "   0  1  0  5  0  0]\n",
      " [ 0  0  0  0  0  0  0  0  0  0  0  0  0  0  0  0  0  0  0  0  0  0  0  0\n",
      "   0  0  0  0  4  0]\n",
      " [ 0  0  0  0  0  0  0  0  0  0  1  0  0  0  0  0  0  0  0  0  0  0  0  0\n",
      "   0  0  0  0  0  8]]\n"
     ]
    }
   ],
   "source": [
    "print(classification_report(y_test, pred_rfc))\n",
    "print(confusion_matrix(y_test, pred_rfc))"
   ]
  },
  {
   "cell_type": "code",
   "execution_count": 121,
   "id": "1f87e355",
   "metadata": {},
   "outputs": [
    {
     "name": "stdout",
     "output_type": "stream",
     "text": [
      "   uid  key1_id  key2_id  key1_hold_dur  key2_hold_dur  DD_dur  UU_dur  \\\n",
      "0   27       84       72             97             63     161     127   \n",
      "1   27       84       72             88             96      72      80   \n",
      "2   27       84       72             80            105      80     105   \n",
      "3   27       84       72             80             64     968     952   \n",
      "4   27       84       72             80             80      96      96   \n",
      "\n",
      "   UD_dur  speed  all_fingers  dom_hand  \n",
      "0      64      2            1         0  \n",
      "1     -16      2            1         0  \n",
      "2       0      2            1         0  \n",
      "3     888      2            1         0  \n",
      "4      16      2            1         0  \n"
     ]
    }
   ],
   "source": [
    "new_dataset = data_set = pd.read_excel('test_data.xlsx')\n",
    "print(data_set.head())"
   ]
  },
  {
   "cell_type": "code",
   "execution_count": 122,
   "id": "c0822fa8",
   "metadata": {},
   "outputs": [
    {
     "name": "stdout",
     "output_type": "stream",
     "text": [
      "              precision    recall  f1-score   support\n",
      "\n",
      "          14       0.00      0.00      0.00       0.0\n",
      "          27       0.00      0.00      0.00      31.0\n",
      "\n",
      "    accuracy                           0.00      31.0\n",
      "   macro avg       0.00      0.00      0.00      31.0\n",
      "weighted avg       0.00      0.00      0.00      31.0\n",
      "\n"
     ]
    },
    {
     "name": "stderr",
     "output_type": "stream",
     "text": [
      "C:\\Users\\tayzoon\\Anaconda3\\lib\\site-packages\\sklearn\\metrics\\_classification.py:1245: UndefinedMetricWarning: Precision and F-score are ill-defined and being set to 0.0 in labels with no predicted samples. Use `zero_division` parameter to control this behavior.\n",
      "  _warn_prf(average, modifier, msg_start, len(result))\n",
      "C:\\Users\\tayzoon\\Anaconda3\\lib\\site-packages\\sklearn\\metrics\\_classification.py:1245: UndefinedMetricWarning: Recall and F-score are ill-defined and being set to 0.0 in labels with no true samples. Use `zero_division` parameter to control this behavior.\n",
      "  _warn_prf(average, modifier, msg_start, len(result))\n",
      "C:\\Users\\tayzoon\\Anaconda3\\lib\\site-packages\\sklearn\\metrics\\_classification.py:1245: UndefinedMetricWarning: Precision and F-score are ill-defined and being set to 0.0 in labels with no predicted samples. Use `zero_division` parameter to control this behavior.\n",
      "  _warn_prf(average, modifier, msg_start, len(result))\n",
      "C:\\Users\\tayzoon\\Anaconda3\\lib\\site-packages\\sklearn\\metrics\\_classification.py:1245: UndefinedMetricWarning: Recall and F-score are ill-defined and being set to 0.0 in labels with no true samples. Use `zero_division` parameter to control this behavior.\n",
      "  _warn_prf(average, modifier, msg_start, len(result))\n",
      "C:\\Users\\tayzoon\\Anaconda3\\lib\\site-packages\\sklearn\\metrics\\_classification.py:1245: UndefinedMetricWarning: Precision and F-score are ill-defined and being set to 0.0 in labels with no predicted samples. Use `zero_division` parameter to control this behavior.\n",
      "  _warn_prf(average, modifier, msg_start, len(result))\n",
      "C:\\Users\\tayzoon\\Anaconda3\\lib\\site-packages\\sklearn\\metrics\\_classification.py:1245: UndefinedMetricWarning: Recall and F-score are ill-defined and being set to 0.0 in labels with no true samples. Use `zero_division` parameter to control this behavior.\n",
      "  _warn_prf(average, modifier, msg_start, len(result))\n"
     ]
    }
   ],
   "source": [
    "X1 = data_set.drop('uid', axis=1)\n",
    "y2 = data_set['uid']\n",
    "X1 = sc.transform(X1)\n",
    "pred_rfc2 = rfc.predict(X1)\n",
    "print(classification_report(y2, pred_rfc2))"
   ]
  },
  {
   "cell_type": "code",
   "execution_count": null,
   "id": "f9a7d39e",
   "metadata": {},
   "outputs": [],
   "source": []
  },
  {
   "cell_type": "code",
   "execution_count": null,
   "id": "dd539214",
   "metadata": {},
   "outputs": [],
   "source": []
  },
  {
   "cell_type": "code",
   "execution_count": null,
   "id": "5e76bb9e",
   "metadata": {},
   "outputs": [],
   "source": []
  },
  {
   "cell_type": "code",
   "execution_count": null,
   "id": "f6e56d77",
   "metadata": {},
   "outputs": [],
   "source": []
  }
 ],
 "metadata": {
  "kernelspec": {
   "display_name": "Python 3",
   "language": "python",
   "name": "python3"
  },
  "language_info": {
   "codemirror_mode": {
    "name": "ipython",
    "version": 3
   },
   "file_extension": ".py",
   "mimetype": "text/x-python",
   "name": "python",
   "nbconvert_exporter": "python",
   "pygments_lexer": "ipython3",
   "version": "3.8.8"
  }
 },
 "nbformat": 4,
 "nbformat_minor": 5
}
