{
 "cells": [
  {
   "cell_type": "code",
   "execution_count": 1,
   "id": "14e6fc34",
   "metadata": {},
   "outputs": [],
   "source": [
    "import os\n",
    "import pandas as pd\n",
    "import numpy as np\n",
    "from sklearn.neural_network import MLPClassifier\n",
    "from sklearn.preprocessing import StandardScaler, LabelEncoder\n",
    "from sklearn.model_selection import train_test_split\n",
    "from sklearn.ensemble import RandomForestClassifier\n",
    "from sklearn.metrics import confusion_matrix, classification_report\n",
    "from sklearn.neural_network import MLPClassifier\n",
    "from sklearn import svm\n",
    "from sklearn.metrics import f1_score\n",
    "from sklearn.svm import SVR\n",
    "from keras.models import Sequential\n",
    "from keras.layers import Dense\n",
    "import seaborn as sns\n",
    "from sklearn.metrics import accuracy_score"
   ]
  },
  {
   "cell_type": "code",
   "execution_count": 2,
   "id": "97ad945b",
   "metadata": {},
   "outputs": [
    {
     "name": "stdout",
     "output_type": "stream",
     "text": [
      "   uid  key1_hold_dur  key2_hold_dur  DD_dur  UU_dur  UD_dur\n",
      "0    1             96             88      96      88       0\n",
      "1    1            176            112      64       0    -112\n",
      "2    1            136            104      32       0    -104\n",
      "3    1            113             73      40       0     -73\n",
      "4    1             96             88      96      88       0\n"
     ]
    }
   ],
   "source": [
    "train_set = pd.read_excel(\"train_data.xlsx\")\n",
    "print(train_set.head())"
   ]
  },
  {
   "cell_type": "code",
   "execution_count": 3,
   "id": "0eb5f298",
   "metadata": {},
   "outputs": [
    {
     "name": "stdout",
     "output_type": "stream",
     "text": [
      "   uid  key1_hold_dur  key2_hold_dur  DD_dur  UU_dur  UD_dur\n",
      "0    1            120             76     164     120      44\n",
      "1    1             80             64      80      64       0\n",
      "2    1             80             63      81      64       1\n",
      "3    1            104            109      84      89     -20\n",
      "4    1             80             96     104     120      24\n"
     ]
    }
   ],
   "source": [
    "test_set = pd.read_excel(\"test_data.xlsx\")\n",
    "print(test_set.head())"
   ]
  },
  {
   "cell_type": "code",
   "execution_count": 4,
   "id": "753d93c2",
   "metadata": {},
   "outputs": [],
   "source": [
    "X_train = train_set.drop('uid', axis=1)\n",
    "X_test = test_set.drop('uid', axis=1)\n",
    "y_train = train_set['uid']\n",
    "y_test = test_set['uid']"
   ]
  },
  {
   "cell_type": "code",
   "execution_count": 5,
   "id": "25085348",
   "metadata": {},
   "outputs": [],
   "source": [
    "sc = StandardScaler()\n",
    "X_train = sc.fit_transform(X_train)\n",
    "X_test = sc.transform(X_test)"
   ]
  },
  {
   "cell_type": "code",
   "execution_count": 6,
   "id": "672327b2",
   "metadata": {},
   "outputs": [],
   "source": [
    "rfc = RandomForestClassifier(n_estimators=1000)\n",
    "rfc.fit(X_train, y_train)\n",
    "pred_rfc = rfc.predict(X_test)"
   ]
  },
  {
   "cell_type": "code",
   "execution_count": 7,
   "id": "606929e2",
   "metadata": {},
   "outputs": [
    {
     "name": "stdout",
     "output_type": "stream",
     "text": [
      "              precision    recall  f1-score   support\n",
      "\n",
      "           0       0.82      0.59      0.68        46\n",
      "           1       0.47      0.74      0.58        23\n",
      "\n",
      "    accuracy                           0.64        69\n",
      "   macro avg       0.65      0.66      0.63        69\n",
      "weighted avg       0.70      0.64      0.65        69\n",
      "\n",
      "[[27 19]\n",
      " [ 6 17]]\n"
     ]
    }
   ],
   "source": [
    "print(classification_report(y_test, pred_rfc))\n",
    "print(confusion_matrix(y_test, pred_rfc))"
   ]
  },
  {
   "cell_type": "code",
   "execution_count": 8,
   "id": "1f7c696d",
   "metadata": {},
   "outputs": [],
   "source": [
    "clf = svm.SVC()\n",
    "clf.fit(X_train, y_train)\n",
    "pred_clf = clf.predict(X_test)"
   ]
  },
  {
   "cell_type": "code",
   "execution_count": 9,
   "id": "ddd1b750",
   "metadata": {},
   "outputs": [
    {
     "name": "stdout",
     "output_type": "stream",
     "text": [
      "              precision    recall  f1-score   support\n",
      "\n",
      "           0       0.72      0.93      0.81        46\n",
      "           1       0.67      0.26      0.38        23\n",
      "\n",
      "    accuracy                           0.71        69\n",
      "   macro avg       0.69      0.60      0.59        69\n",
      "weighted avg       0.70      0.71      0.67        69\n",
      "\n",
      "[[43  3]\n",
      " [17  6]]\n"
     ]
    }
   ],
   "source": [
    "print(classification_report(y_test, pred_clf))\n",
    "print(confusion_matrix(y_test, pred_clf))"
   ]
  },
  {
   "cell_type": "code",
   "execution_count": 10,
   "id": "9e74a708",
   "metadata": {},
   "outputs": [
    {
     "name": "stdout",
     "output_type": "stream",
     "text": [
      "              precision    recall  f1-score   support\n",
      "\n",
      "           0       0.72      0.74      0.73        46\n",
      "           1       0.45      0.43      0.44        23\n",
      "\n",
      "    accuracy                           0.64        69\n",
      "   macro avg       0.59      0.59      0.59        69\n",
      "weighted avg       0.63      0.64      0.64        69\n",
      "\n",
      "[[34 12]\n",
      " [13 10]]\n"
     ]
    }
   ],
   "source": [
    "mlpc=MLPClassifier(hidden_layer_sizes=(20,20,20,20),max_iter=2000)\n",
    "mlpc.fit(X_train, y_train)\n",
    "pred_mlpc = mlpc.predict(X_test)\n",
    "print(classification_report(y_test, pred_mlpc))\n",
    "print(confusion_matrix(y_test, pred_mlpc))"
   ]
  },
  {
   "cell_type": "code",
   "execution_count": 11,
   "id": "bd5c63e9",
   "metadata": {},
   "outputs": [
    {
     "name": "stdout",
     "output_type": "stream",
     "text": [
      "   uid  key1_hold_dur  key2_hold_dur  DD_dur  UU_dur  UD_dur\n",
      "0    1             80            120      96     136      16\n",
      "1    1            112             80     104      72      -8\n",
      "2    1             64            101      91     128      27\n",
      "3    1            112             63     112      63       0\n",
      "4    1             80             88      80      88       0\n"
     ]
    }
   ],
   "source": [
    "attack_set = pd.read_excel(\"attack_data.xlsx\")\n",
    "print(attack_set.head())"
   ]
  },
  {
   "cell_type": "code",
   "execution_count": 12,
   "id": "03a5d8cc",
   "metadata": {},
   "outputs": [
    {
     "name": "stdout",
     "output_type": "stream",
     "text": [
      "              precision    recall  f1-score   support\n",
      "\n",
      "           0       0.79      0.65      0.71        46\n",
      "           1       0.47      0.64      0.54        22\n",
      "\n",
      "    accuracy                           0.65        68\n",
      "   macro avg       0.63      0.64      0.63        68\n",
      "weighted avg       0.69      0.65      0.66        68\n",
      "\n",
      "[[30 16]\n",
      " [ 8 14]]\n"
     ]
    }
   ],
   "source": [
    "X1 = attack_set.drop('uid', axis=1)\n",
    "y2 = attack_set['uid']\n",
    "X1 = sc.transform(X1)\n",
    "pred_rfc2 = rfc.predict(X1)\n",
    "print(classification_report(y2, pred_rfc2))\n",
    "print(confusion_matrix(y2, pred_rfc2))"
   ]
  },
  {
   "cell_type": "code",
   "execution_count": 13,
   "id": "788c7b5a",
   "metadata": {},
   "outputs": [
    {
     "name": "stdout",
     "output_type": "stream",
     "text": [
      "              precision    recall  f1-score   support\n",
      "\n",
      "           0       0.69      0.93      0.80        46\n",
      "           1       0.50      0.14      0.21        22\n",
      "\n",
      "    accuracy                           0.68        68\n",
      "   macro avg       0.60      0.54      0.51        68\n",
      "weighted avg       0.63      0.68      0.61        68\n",
      "\n",
      "[[43  3]\n",
      " [19  3]]\n"
     ]
    }
   ],
   "source": [
    "pred_clf2 = clf.predict(X1)\n",
    "print(classification_report(y2, pred_clf2))\n",
    "print(confusion_matrix(y2, pred_clf2))"
   ]
  },
  {
   "cell_type": "code",
   "execution_count": 14,
   "id": "95ca56df",
   "metadata": {},
   "outputs": [
    {
     "name": "stdout",
     "output_type": "stream",
     "text": [
      "              precision    recall  f1-score   support\n",
      "\n",
      "           0       0.75      0.72      0.73        46\n",
      "           1       0.46      0.50      0.48        22\n",
      "\n",
      "    accuracy                           0.65        68\n",
      "   macro avg       0.60      0.61      0.61        68\n",
      "weighted avg       0.66      0.65      0.65        68\n",
      "\n",
      "[[33 13]\n",
      " [11 11]]\n"
     ]
    }
   ],
   "source": [
    "pred_mlpc2 = mlpc.predict(X1)\n",
    "print(classification_report(y2, pred_mlpc2))\n",
    "print(confusion_matrix(y2, pred_mlpc2))"
   ]
  },
  {
   "cell_type": "code",
   "execution_count": null,
   "id": "ac7044f2",
   "metadata": {},
   "outputs": [],
   "source": []
  }
 ],
 "metadata": {
  "kernelspec": {
   "display_name": "Python 3",
   "language": "python",
   "name": "python3"
  },
  "language_info": {
   "codemirror_mode": {
    "name": "ipython",
    "version": 3
   },
   "file_extension": ".py",
   "mimetype": "text/x-python",
   "name": "python",
   "nbconvert_exporter": "python",
   "pygments_lexer": "ipython3",
   "version": "3.8.8"
  }
 },
 "nbformat": 4,
 "nbformat_minor": 5
}
