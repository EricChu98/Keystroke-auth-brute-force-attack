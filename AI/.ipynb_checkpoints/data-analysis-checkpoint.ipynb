{
 "cells": [
  {
   "cell_type": "code",
   "execution_count": 2,
   "id": "99c095a9",
   "metadata": {},
   "outputs": [],
   "source": [
    "with open('001/2013-03-18-17-40-42.txt') as my_file:\n",
    "    testsite_array = my_file.readlines()\n",
    "my_file.close()\n",
    "\n",
    "for line in testsite_array:\n",
    "    if line == '\\n':\n",
    "        testsite_array.remove(line)\n",
    "\n",
    "remove_elem1 = testsite_array[0]\n",
    "remove_elem2 = testsite_array[len(testsite_array)-1]\n",
    "\n",
    "testsite_array.remove(remove_elem1)\n",
    "testsite_array.remove(remove_elem2)\n",
    "\n",
    "new_array = []\n",
    "final_array = []\n",
    "for line in testsite_array:\n",
    "    new_array.append(line.split(','))\n",
    "for array in new_array:\n",
    "    array[len(array)-1] = array[len(array)-1].strip('\\n')\n",
    "    desired_array = [int(numeric_string) for numeric_string in array]\n",
    "    final_array.append(desired_array)"
   ]
  },
  {
   "cell_type": "code",
   "execution_count": 3,
   "id": "eecbc363",
   "metadata": {},
   "outputs": [
    {
     "name": "stdout",
     "output_type": "stream",
     "text": [
      "      a              b   c              d\n",
      "0    16  1363642699863  73  1363642700150\n",
      "1    73  1363642700054  16  1363642700190\n",
      "2    84  1363642700334  84  1363642700462\n",
      "3    32  1363642700414  32  1363642700518\n",
      "4    73  1363642700502  73  1363642700598\n",
      "..   ..            ...  ..            ...\n",
      "541  77  1363642809815  77  1363642809935\n",
      "542  79  1363642809919  79  1363642810039\n",
      "543  82  1363642810039  82  1363642810111\n",
      "544  83  1363642810175  83  1363642810303\n",
      "545  32  1363642810279  32  1363642810423\n",
      "\n",
      "[546 rows x 4 columns]\n"
     ]
    }
   ],
   "source": [
    "import pandas as pd\n",
    "import numpy as np\n",
    "\n",
    "df = pd.DataFrame({'a': final_array[0], 'b': final_array[1], 'c': final_array[2], 'd': final_array[3]})\n",
    "print(df)"
   ]
  },
  {
   "cell_type": "code",
   "execution_count": null,
   "id": "e3dad1ad",
   "metadata": {},
   "outputs": [],
   "source": []
  }
 ],
 "metadata": {
  "kernelspec": {
   "display_name": "Python 3 (ipykernel)",
   "language": "python",
   "name": "python3"
  },
  "language_info": {
   "codemirror_mode": {
    "name": "ipython",
    "version": 3
   },
   "file_extension": ".py",
   "mimetype": "text/x-python",
   "name": "python",
   "nbconvert_exporter": "python",
   "pygments_lexer": "ipython3",
   "version": "3.9.7"
  }
 },
 "nbformat": 4,
 "nbformat_minor": 5
}
